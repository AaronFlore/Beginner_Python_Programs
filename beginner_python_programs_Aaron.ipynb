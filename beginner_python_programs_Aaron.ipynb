{
  "nbformat": 4,
  "nbformat_minor": 0,
  "metadata": {
    "colab": {
      "name": "HW1_Floreani_Aaron.ipynb",
      "provenance": [],
      "collapsed_sections": []
    },
    "kernelspec": {
      "name": "python3",
      "display_name": "Python 3"
    }
  },
  "cells": [
    {
      "cell_type": "markdown",
      "metadata": {
        "id": "uacFrEaZfcfq"
      },
      "source": [
        "##### Q1. Write a program that prompts the user to enter a password then prints the length of the password.\n",
        "\n",
        "```\n",
        "Enter your password: hello\n",
        "Your password is 5 long.\n",
        "```\n",
        "\n",
        "\n"
      ]
    },
    {
      "cell_type": "code",
      "metadata": {
        "id": "avPyES14ftCt",
        "colab": {
          "base_uri": "https://localhost:8080/"
        },
        "outputId": "344f4356-7d87-4536-c382-94a98a8f9127"
      },
      "source": [
        "# Description: counts length of user inputted string\n",
        "password = input(\"Enter a password: \")\n",
        "print(\"Your password is\", len(password),\"characters long\")"
      ],
      "execution_count": null,
      "outputs": [
        {
          "output_type": "stream",
          "text": [
            "Enter a password: passwordfyf2398\n",
            "Your password is 15 characters long\n"
          ],
          "name": "stdout"
        }
      ]
    },
    {
      "cell_type": "markdown",
      "metadata": {
        "id": "ekh-kABuItli"
      },
      "source": [
        ""
      ]
    },
    {
      "cell_type": "markdown",
      "metadata": {
        "id": "K1yko-xUItU3"
      },
      "source": [
        ""
      ]
    },
    {
      "cell_type": "markdown",
      "metadata": {
        "id": "behD0j_Of2TW"
      },
      "source": [
        "##### Q2. Write a program that prompts the user to enter their full name then prints the number of characters in their name (do not count spaces).\n",
        "\n",
        "```\n",
        "What is your name? Amulya Katti\n",
        "Amulya Katti your name has 11 characters.\n",
        "```"
      ]
    },
    {
      "cell_type": "code",
      "metadata": {
        "id": "XSdIRjwlhSlu",
        "colab": {
          "base_uri": "https://localhost:8080/"
        },
        "outputId": "6c0422e7-6b39-482e-a413-938dba8ad56d"
      },
      "source": [
        "# Type solution here\n",
        "#Description: Counts the number of spaces in a name and then removes them from length of string\n",
        "space_remover = 0\n",
        "name = input(\"What's your name? \")\n",
        "for i in name:\n",
        "  if i == \" \":\n",
        "    space_remover = space_remover -1\n",
        "print(name, \"your name has\", int(len(name)) + space_remover, \"characters\")"
      ],
      "execution_count": null,
      "outputs": [
        {
          "output_type": "stream",
          "text": [
            "What's your name? A R W\n",
            "A R W your name has 3 characters\n"
          ],
          "name": "stdout"
        }
      ]
    },
    {
      "cell_type": "markdown",
      "metadata": {
        "id": "5KHOWF6FhVHV"
      },
      "source": [
        "##### Q3. Write a program that prompts the user to enter a month (as a number), then prints the name of the month and the number of days in that month. Ensure that the user inputs a valid month and handle any error cases.\n",
        "\n",
        "```\n",
        "Enter the month number: 9\n",
        "September has 30 days\n",
        "```"
      ]
    },
    {
      "cell_type": "code",
      "metadata": {
        "id": "KhS-SAEThyTG",
        "colab": {
          "base_uri": "https://localhost:8080/"
        },
        "outputId": "0c1d2a2a-1313-42c9-8be3-f9c66a62084e"
      },
      "source": [
        "# Type solution here\n",
        "# Description: Defines a dictionary with calendar numbers and strings. Until the user inputs a number in the dictionary for it to print, the process repeats.\n",
        "calendar = {'1': \"Janaury has 31 days\", '2': \"February has 29 days\", '3': \"March has 31 days\", '4': \"April has 30 days\", '5': \"May has 31 days\", '6': \"June has 30 days\", '7': \"July has 31 days\", '8': \"August has 31 days\", '9': \"September has 30 days\", '10': \"October has 31 days\", '11': \"November has 30 days\", '12': \"December has 31 days\"}\n",
        "num_month = input(\"Enter the month as a number: \")\n",
        "while num_month not in calendar:\n",
        "  print(\"Invalid! Try again\")\n",
        "  num_month = input(\"Enter the month as a number: \")\n",
        "print(calendar[num_month])\n",
        "\n"
      ],
      "execution_count": null,
      "outputs": [
        {
          "output_type": "stream",
          "text": [
            "Enter the month as a number: 9\n",
            "September has 30 days\n"
          ],
          "name": "stdout"
        }
      ]
    },
    {
      "cell_type": "markdown",
      "metadata": {
        "id": "O7lnAdGlh6Xa"
      },
      "source": [
        "##### Q4. Write a program that prompts the user to enter a loan amount, annual interest rate, and number of years  for a car loan. Then calculate and print the monthly payment amount.\n",
        "\n",
        "Note:\n",
        "```\n",
        "PMT= [PV*i*((1+i)^n)]/[((1+i)^n)-1]\n",
        "```\n",
        "PMT is the monthly payment\n",
        "\n",
        "PV is the loan amount\n",
        "\n",
        "i is the interest rate per month in decimal form (interest rate percentage divided by 12)\n",
        "\n",
        "n is the number of months (term of the loan in months)\n",
        "\n",
        "```\n",
        "Loan Amount: 30000.00\n",
        "Annual Interest Rate: 4.00\n",
        "Years: 5\n",
        "Your monthly payment is: $552.50\n",
        "```"
      ]
    },
    {
      "cell_type": "code",
      "metadata": {
        "id": "p4B5JH5GiTs9",
        "colab": {
          "base_uri": "https://localhost:8080/"
        },
        "outputId": "b243da12-9586-4922-bddb-05601f2f4047"
      },
      "source": [
        "# Type solution here\n",
        "pv = float(input(\"Loan Amount: \"))\n",
        "i = (float(input(\"Annual Interest Rate: \"))/12)\n",
        "n = (float(input(\"Years: \"))*12)\n",
        "PMT = pv*(i*(1.0 + i)**n)/((1.0 + i) ** n - 1)\n",
        "print(\"Your monthly payment is: $\"+ str(round(PMT, 2)))"
      ],
      "execution_count": null,
      "outputs": [
        {
          "output_type": "stream",
          "text": [
            "Loan Amount: 5\n",
            "Annual Interest Rate: 5\n",
            "Years: 5\n",
            "Your monthly payment is: $2.08\n"
          ],
          "name": "stdout"
        }
      ]
    },
    {
      "cell_type": "markdown",
      "metadata": {
        "id": "SjiolJKgiWV-"
      },
      "source": [
        "##### Q5. Write a program to that prompts the user to enter a string. Then check whether or not the string is a palindrome.\n",
        "\n",
        "```\n",
        "Enter a string: Madam\n",
        "Madam, is a palindrome!\n",
        "```"
      ]
    },
    {
      "cell_type": "code",
      "metadata": {
        "id": "F5_M934Ri0es",
        "colab": {
          "base_uri": "https://localhost:8080/"
        },
        "outputId": "fe4627ea-d8db-40a1-d545-390810986de5"
      },
      "source": [
        "# Type solution here\n",
        "myword = input(\"Enter a string: \")\n",
        "if myword.lower()[: : -1] == myword.lower():\n",
        "  print(myword, \"is a palindrome!\")\n",
        "else:\n",
        "  print(myword, \"is NOT a palindrome!\")\n"
      ],
      "execution_count": null,
      "outputs": [
        {
          "output_type": "stream",
          "text": [
            "Enter a string: vdfvfl\n",
            "vdfvfl is NOT a palindrome!\n"
          ],
          "name": "stdout"
        }
      ]
    },
    {
      "cell_type": "markdown",
      "metadata": {
        "id": "BLBD6n9vkJEu"
      },
      "source": [
        "##### Q6. Write a program to compute and print all possible combinations of change for \\$1. Denominations to be considered – quarter, dime, nickel, penny.\n",
        "\n",
        "Hint: Use nested loops (loops within loops for the various denominations of coins)\n",
        "\n",
        "```\n",
        "Change for $1:\n",
        "0 quarters, 0 dimes, 0 nickels, 100 pennies\n",
        "…\n",
        "4 quarters, 0 dimes, 0 nickels, 0 pennies\n",
        "```"
      ]
    },
    {
      "cell_type": "code",
      "metadata": {
        "id": "kAQsTjwDkZZ5",
        "colab": {
          "base_uri": "https://localhost:8080/"
        },
        "outputId": "0ba68a29-1ffb-4041-fccd-190f3350ba83"
      },
      "source": [
        "# Type solution here\n",
        "print(\"Change for $1:\")\n",
        "for q in range(0, 101, 25):\n",
        "  for d in range(0, 101, 10):\n",
        "    for n in range(0, 101, 5):\n",
        "      for p in range(0, 101, 1):\n",
        "        if (q+d+n+p == 100):\n",
        "          print((q/25), \"quarters\", (d/10), \"dimes\", (n/5), \"nickels\", p, \"pennies\")\n",
        "\n",
        "\n"
      ],
      "execution_count": null,
      "outputs": [
        {
          "output_type": "stream",
          "text": [
            "Change for $1:\n",
            "0.0 quarters 0.0 dimes 0.0 nickels 100 pennies\n",
            "0.0 quarters 0.0 dimes 1.0 nickels 95 pennies\n",
            "0.0 quarters 0.0 dimes 2.0 nickels 90 pennies\n",
            "0.0 quarters 0.0 dimes 3.0 nickels 85 pennies\n",
            "0.0 quarters 0.0 dimes 4.0 nickels 80 pennies\n",
            "0.0 quarters 0.0 dimes 5.0 nickels 75 pennies\n",
            "0.0 quarters 0.0 dimes 6.0 nickels 70 pennies\n",
            "0.0 quarters 0.0 dimes 7.0 nickels 65 pennies\n",
            "0.0 quarters 0.0 dimes 8.0 nickels 60 pennies\n",
            "0.0 quarters 0.0 dimes 9.0 nickels 55 pennies\n",
            "0.0 quarters 0.0 dimes 10.0 nickels 50 pennies\n",
            "0.0 quarters 0.0 dimes 11.0 nickels 45 pennies\n",
            "0.0 quarters 0.0 dimes 12.0 nickels 40 pennies\n",
            "0.0 quarters 0.0 dimes 13.0 nickels 35 pennies\n",
            "0.0 quarters 0.0 dimes 14.0 nickels 30 pennies\n",
            "0.0 quarters 0.0 dimes 15.0 nickels 25 pennies\n",
            "0.0 quarters 0.0 dimes 16.0 nickels 20 pennies\n",
            "0.0 quarters 0.0 dimes 17.0 nickels 15 pennies\n",
            "0.0 quarters 0.0 dimes 18.0 nickels 10 pennies\n",
            "0.0 quarters 0.0 dimes 19.0 nickels 5 pennies\n",
            "0.0 quarters 0.0 dimes 20.0 nickels 0 pennies\n",
            "0.0 quarters 1.0 dimes 0.0 nickels 90 pennies\n",
            "0.0 quarters 1.0 dimes 1.0 nickels 85 pennies\n",
            "0.0 quarters 1.0 dimes 2.0 nickels 80 pennies\n",
            "0.0 quarters 1.0 dimes 3.0 nickels 75 pennies\n",
            "0.0 quarters 1.0 dimes 4.0 nickels 70 pennies\n",
            "0.0 quarters 1.0 dimes 5.0 nickels 65 pennies\n",
            "0.0 quarters 1.0 dimes 6.0 nickels 60 pennies\n",
            "0.0 quarters 1.0 dimes 7.0 nickels 55 pennies\n",
            "0.0 quarters 1.0 dimes 8.0 nickels 50 pennies\n",
            "0.0 quarters 1.0 dimes 9.0 nickels 45 pennies\n",
            "0.0 quarters 1.0 dimes 10.0 nickels 40 pennies\n",
            "0.0 quarters 1.0 dimes 11.0 nickels 35 pennies\n",
            "0.0 quarters 1.0 dimes 12.0 nickels 30 pennies\n",
            "0.0 quarters 1.0 dimes 13.0 nickels 25 pennies\n",
            "0.0 quarters 1.0 dimes 14.0 nickels 20 pennies\n",
            "0.0 quarters 1.0 dimes 15.0 nickels 15 pennies\n",
            "0.0 quarters 1.0 dimes 16.0 nickels 10 pennies\n",
            "0.0 quarters 1.0 dimes 17.0 nickels 5 pennies\n",
            "0.0 quarters 1.0 dimes 18.0 nickels 0 pennies\n",
            "0.0 quarters 2.0 dimes 0.0 nickels 80 pennies\n",
            "0.0 quarters 2.0 dimes 1.0 nickels 75 pennies\n",
            "0.0 quarters 2.0 dimes 2.0 nickels 70 pennies\n",
            "0.0 quarters 2.0 dimes 3.0 nickels 65 pennies\n",
            "0.0 quarters 2.0 dimes 4.0 nickels 60 pennies\n",
            "0.0 quarters 2.0 dimes 5.0 nickels 55 pennies\n",
            "0.0 quarters 2.0 dimes 6.0 nickels 50 pennies\n",
            "0.0 quarters 2.0 dimes 7.0 nickels 45 pennies\n",
            "0.0 quarters 2.0 dimes 8.0 nickels 40 pennies\n",
            "0.0 quarters 2.0 dimes 9.0 nickels 35 pennies\n",
            "0.0 quarters 2.0 dimes 10.0 nickels 30 pennies\n",
            "0.0 quarters 2.0 dimes 11.0 nickels 25 pennies\n",
            "0.0 quarters 2.0 dimes 12.0 nickels 20 pennies\n",
            "0.0 quarters 2.0 dimes 13.0 nickels 15 pennies\n",
            "0.0 quarters 2.0 dimes 14.0 nickels 10 pennies\n",
            "0.0 quarters 2.0 dimes 15.0 nickels 5 pennies\n",
            "0.0 quarters 2.0 dimes 16.0 nickels 0 pennies\n",
            "0.0 quarters 3.0 dimes 0.0 nickels 70 pennies\n",
            "0.0 quarters 3.0 dimes 1.0 nickels 65 pennies\n",
            "0.0 quarters 3.0 dimes 2.0 nickels 60 pennies\n",
            "0.0 quarters 3.0 dimes 3.0 nickels 55 pennies\n",
            "0.0 quarters 3.0 dimes 4.0 nickels 50 pennies\n",
            "0.0 quarters 3.0 dimes 5.0 nickels 45 pennies\n",
            "0.0 quarters 3.0 dimes 6.0 nickels 40 pennies\n",
            "0.0 quarters 3.0 dimes 7.0 nickels 35 pennies\n",
            "0.0 quarters 3.0 dimes 8.0 nickels 30 pennies\n",
            "0.0 quarters 3.0 dimes 9.0 nickels 25 pennies\n",
            "0.0 quarters 3.0 dimes 10.0 nickels 20 pennies\n",
            "0.0 quarters 3.0 dimes 11.0 nickels 15 pennies\n",
            "0.0 quarters 3.0 dimes 12.0 nickels 10 pennies\n",
            "0.0 quarters 3.0 dimes 13.0 nickels 5 pennies\n",
            "0.0 quarters 3.0 dimes 14.0 nickels 0 pennies\n",
            "0.0 quarters 4.0 dimes 0.0 nickels 60 pennies\n",
            "0.0 quarters 4.0 dimes 1.0 nickels 55 pennies\n",
            "0.0 quarters 4.0 dimes 2.0 nickels 50 pennies\n",
            "0.0 quarters 4.0 dimes 3.0 nickels 45 pennies\n",
            "0.0 quarters 4.0 dimes 4.0 nickels 40 pennies\n",
            "0.0 quarters 4.0 dimes 5.0 nickels 35 pennies\n",
            "0.0 quarters 4.0 dimes 6.0 nickels 30 pennies\n",
            "0.0 quarters 4.0 dimes 7.0 nickels 25 pennies\n",
            "0.0 quarters 4.0 dimes 8.0 nickels 20 pennies\n",
            "0.0 quarters 4.0 dimes 9.0 nickels 15 pennies\n",
            "0.0 quarters 4.0 dimes 10.0 nickels 10 pennies\n",
            "0.0 quarters 4.0 dimes 11.0 nickels 5 pennies\n",
            "0.0 quarters 4.0 dimes 12.0 nickels 0 pennies\n",
            "0.0 quarters 5.0 dimes 0.0 nickels 50 pennies\n",
            "0.0 quarters 5.0 dimes 1.0 nickels 45 pennies\n",
            "0.0 quarters 5.0 dimes 2.0 nickels 40 pennies\n",
            "0.0 quarters 5.0 dimes 3.0 nickels 35 pennies\n",
            "0.0 quarters 5.0 dimes 4.0 nickels 30 pennies\n",
            "0.0 quarters 5.0 dimes 5.0 nickels 25 pennies\n",
            "0.0 quarters 5.0 dimes 6.0 nickels 20 pennies\n",
            "0.0 quarters 5.0 dimes 7.0 nickels 15 pennies\n",
            "0.0 quarters 5.0 dimes 8.0 nickels 10 pennies\n",
            "0.0 quarters 5.0 dimes 9.0 nickels 5 pennies\n",
            "0.0 quarters 5.0 dimes 10.0 nickels 0 pennies\n",
            "0.0 quarters 6.0 dimes 0.0 nickels 40 pennies\n",
            "0.0 quarters 6.0 dimes 1.0 nickels 35 pennies\n",
            "0.0 quarters 6.0 dimes 2.0 nickels 30 pennies\n",
            "0.0 quarters 6.0 dimes 3.0 nickels 25 pennies\n",
            "0.0 quarters 6.0 dimes 4.0 nickels 20 pennies\n",
            "0.0 quarters 6.0 dimes 5.0 nickels 15 pennies\n",
            "0.0 quarters 6.0 dimes 6.0 nickels 10 pennies\n",
            "0.0 quarters 6.0 dimes 7.0 nickels 5 pennies\n",
            "0.0 quarters 6.0 dimes 8.0 nickels 0 pennies\n",
            "0.0 quarters 7.0 dimes 0.0 nickels 30 pennies\n",
            "0.0 quarters 7.0 dimes 1.0 nickels 25 pennies\n",
            "0.0 quarters 7.0 dimes 2.0 nickels 20 pennies\n",
            "0.0 quarters 7.0 dimes 3.0 nickels 15 pennies\n",
            "0.0 quarters 7.0 dimes 4.0 nickels 10 pennies\n",
            "0.0 quarters 7.0 dimes 5.0 nickels 5 pennies\n",
            "0.0 quarters 7.0 dimes 6.0 nickels 0 pennies\n",
            "0.0 quarters 8.0 dimes 0.0 nickels 20 pennies\n",
            "0.0 quarters 8.0 dimes 1.0 nickels 15 pennies\n",
            "0.0 quarters 8.0 dimes 2.0 nickels 10 pennies\n",
            "0.0 quarters 8.0 dimes 3.0 nickels 5 pennies\n",
            "0.0 quarters 8.0 dimes 4.0 nickels 0 pennies\n",
            "0.0 quarters 9.0 dimes 0.0 nickels 10 pennies\n",
            "0.0 quarters 9.0 dimes 1.0 nickels 5 pennies\n",
            "0.0 quarters 9.0 dimes 2.0 nickels 0 pennies\n",
            "0.0 quarters 10.0 dimes 0.0 nickels 0 pennies\n",
            "1.0 quarters 0.0 dimes 0.0 nickels 75 pennies\n",
            "1.0 quarters 0.0 dimes 1.0 nickels 70 pennies\n",
            "1.0 quarters 0.0 dimes 2.0 nickels 65 pennies\n",
            "1.0 quarters 0.0 dimes 3.0 nickels 60 pennies\n",
            "1.0 quarters 0.0 dimes 4.0 nickels 55 pennies\n",
            "1.0 quarters 0.0 dimes 5.0 nickels 50 pennies\n",
            "1.0 quarters 0.0 dimes 6.0 nickels 45 pennies\n",
            "1.0 quarters 0.0 dimes 7.0 nickels 40 pennies\n",
            "1.0 quarters 0.0 dimes 8.0 nickels 35 pennies\n",
            "1.0 quarters 0.0 dimes 9.0 nickels 30 pennies\n",
            "1.0 quarters 0.0 dimes 10.0 nickels 25 pennies\n",
            "1.0 quarters 0.0 dimes 11.0 nickels 20 pennies\n",
            "1.0 quarters 0.0 dimes 12.0 nickels 15 pennies\n",
            "1.0 quarters 0.0 dimes 13.0 nickels 10 pennies\n",
            "1.0 quarters 0.0 dimes 14.0 nickels 5 pennies\n",
            "1.0 quarters 0.0 dimes 15.0 nickels 0 pennies\n",
            "1.0 quarters 1.0 dimes 0.0 nickels 65 pennies\n",
            "1.0 quarters 1.0 dimes 1.0 nickels 60 pennies\n",
            "1.0 quarters 1.0 dimes 2.0 nickels 55 pennies\n",
            "1.0 quarters 1.0 dimes 3.0 nickels 50 pennies\n",
            "1.0 quarters 1.0 dimes 4.0 nickels 45 pennies\n",
            "1.0 quarters 1.0 dimes 5.0 nickels 40 pennies\n",
            "1.0 quarters 1.0 dimes 6.0 nickels 35 pennies\n",
            "1.0 quarters 1.0 dimes 7.0 nickels 30 pennies\n",
            "1.0 quarters 1.0 dimes 8.0 nickels 25 pennies\n",
            "1.0 quarters 1.0 dimes 9.0 nickels 20 pennies\n",
            "1.0 quarters 1.0 dimes 10.0 nickels 15 pennies\n",
            "1.0 quarters 1.0 dimes 11.0 nickels 10 pennies\n",
            "1.0 quarters 1.0 dimes 12.0 nickels 5 pennies\n",
            "1.0 quarters 1.0 dimes 13.0 nickels 0 pennies\n",
            "1.0 quarters 2.0 dimes 0.0 nickels 55 pennies\n",
            "1.0 quarters 2.0 dimes 1.0 nickels 50 pennies\n",
            "1.0 quarters 2.0 dimes 2.0 nickels 45 pennies\n",
            "1.0 quarters 2.0 dimes 3.0 nickels 40 pennies\n",
            "1.0 quarters 2.0 dimes 4.0 nickels 35 pennies\n",
            "1.0 quarters 2.0 dimes 5.0 nickels 30 pennies\n",
            "1.0 quarters 2.0 dimes 6.0 nickels 25 pennies\n",
            "1.0 quarters 2.0 dimes 7.0 nickels 20 pennies\n",
            "1.0 quarters 2.0 dimes 8.0 nickels 15 pennies\n",
            "1.0 quarters 2.0 dimes 9.0 nickels 10 pennies\n",
            "1.0 quarters 2.0 dimes 10.0 nickels 5 pennies\n",
            "1.0 quarters 2.0 dimes 11.0 nickels 0 pennies\n",
            "1.0 quarters 3.0 dimes 0.0 nickels 45 pennies\n",
            "1.0 quarters 3.0 dimes 1.0 nickels 40 pennies\n",
            "1.0 quarters 3.0 dimes 2.0 nickels 35 pennies\n",
            "1.0 quarters 3.0 dimes 3.0 nickels 30 pennies\n",
            "1.0 quarters 3.0 dimes 4.0 nickels 25 pennies\n",
            "1.0 quarters 3.0 dimes 5.0 nickels 20 pennies\n",
            "1.0 quarters 3.0 dimes 6.0 nickels 15 pennies\n",
            "1.0 quarters 3.0 dimes 7.0 nickels 10 pennies\n",
            "1.0 quarters 3.0 dimes 8.0 nickels 5 pennies\n",
            "1.0 quarters 3.0 dimes 9.0 nickels 0 pennies\n",
            "1.0 quarters 4.0 dimes 0.0 nickels 35 pennies\n",
            "1.0 quarters 4.0 dimes 1.0 nickels 30 pennies\n",
            "1.0 quarters 4.0 dimes 2.0 nickels 25 pennies\n",
            "1.0 quarters 4.0 dimes 3.0 nickels 20 pennies\n",
            "1.0 quarters 4.0 dimes 4.0 nickels 15 pennies\n",
            "1.0 quarters 4.0 dimes 5.0 nickels 10 pennies\n",
            "1.0 quarters 4.0 dimes 6.0 nickels 5 pennies\n",
            "1.0 quarters 4.0 dimes 7.0 nickels 0 pennies\n",
            "1.0 quarters 5.0 dimes 0.0 nickels 25 pennies\n",
            "1.0 quarters 5.0 dimes 1.0 nickels 20 pennies\n",
            "1.0 quarters 5.0 dimes 2.0 nickels 15 pennies\n",
            "1.0 quarters 5.0 dimes 3.0 nickels 10 pennies\n",
            "1.0 quarters 5.0 dimes 4.0 nickels 5 pennies\n",
            "1.0 quarters 5.0 dimes 5.0 nickels 0 pennies\n",
            "1.0 quarters 6.0 dimes 0.0 nickels 15 pennies\n",
            "1.0 quarters 6.0 dimes 1.0 nickels 10 pennies\n",
            "1.0 quarters 6.0 dimes 2.0 nickels 5 pennies\n",
            "1.0 quarters 6.0 dimes 3.0 nickels 0 pennies\n",
            "1.0 quarters 7.0 dimes 0.0 nickels 5 pennies\n",
            "1.0 quarters 7.0 dimes 1.0 nickels 0 pennies\n",
            "2.0 quarters 0.0 dimes 0.0 nickels 50 pennies\n",
            "2.0 quarters 0.0 dimes 1.0 nickels 45 pennies\n",
            "2.0 quarters 0.0 dimes 2.0 nickels 40 pennies\n",
            "2.0 quarters 0.0 dimes 3.0 nickels 35 pennies\n",
            "2.0 quarters 0.0 dimes 4.0 nickels 30 pennies\n",
            "2.0 quarters 0.0 dimes 5.0 nickels 25 pennies\n",
            "2.0 quarters 0.0 dimes 6.0 nickels 20 pennies\n",
            "2.0 quarters 0.0 dimes 7.0 nickels 15 pennies\n",
            "2.0 quarters 0.0 dimes 8.0 nickels 10 pennies\n",
            "2.0 quarters 0.0 dimes 9.0 nickels 5 pennies\n",
            "2.0 quarters 0.0 dimes 10.0 nickels 0 pennies\n",
            "2.0 quarters 1.0 dimes 0.0 nickels 40 pennies\n",
            "2.0 quarters 1.0 dimes 1.0 nickels 35 pennies\n",
            "2.0 quarters 1.0 dimes 2.0 nickels 30 pennies\n",
            "2.0 quarters 1.0 dimes 3.0 nickels 25 pennies\n",
            "2.0 quarters 1.0 dimes 4.0 nickels 20 pennies\n",
            "2.0 quarters 1.0 dimes 5.0 nickels 15 pennies\n",
            "2.0 quarters 1.0 dimes 6.0 nickels 10 pennies\n",
            "2.0 quarters 1.0 dimes 7.0 nickels 5 pennies\n",
            "2.0 quarters 1.0 dimes 8.0 nickels 0 pennies\n",
            "2.0 quarters 2.0 dimes 0.0 nickels 30 pennies\n",
            "2.0 quarters 2.0 dimes 1.0 nickels 25 pennies\n",
            "2.0 quarters 2.0 dimes 2.0 nickels 20 pennies\n",
            "2.0 quarters 2.0 dimes 3.0 nickels 15 pennies\n",
            "2.0 quarters 2.0 dimes 4.0 nickels 10 pennies\n",
            "2.0 quarters 2.0 dimes 5.0 nickels 5 pennies\n",
            "2.0 quarters 2.0 dimes 6.0 nickels 0 pennies\n",
            "2.0 quarters 3.0 dimes 0.0 nickels 20 pennies\n",
            "2.0 quarters 3.0 dimes 1.0 nickels 15 pennies\n",
            "2.0 quarters 3.0 dimes 2.0 nickels 10 pennies\n",
            "2.0 quarters 3.0 dimes 3.0 nickels 5 pennies\n",
            "2.0 quarters 3.0 dimes 4.0 nickels 0 pennies\n",
            "2.0 quarters 4.0 dimes 0.0 nickels 10 pennies\n",
            "2.0 quarters 4.0 dimes 1.0 nickels 5 pennies\n",
            "2.0 quarters 4.0 dimes 2.0 nickels 0 pennies\n",
            "2.0 quarters 5.0 dimes 0.0 nickels 0 pennies\n",
            "3.0 quarters 0.0 dimes 0.0 nickels 25 pennies\n",
            "3.0 quarters 0.0 dimes 1.0 nickels 20 pennies\n",
            "3.0 quarters 0.0 dimes 2.0 nickels 15 pennies\n",
            "3.0 quarters 0.0 dimes 3.0 nickels 10 pennies\n",
            "3.0 quarters 0.0 dimes 4.0 nickels 5 pennies\n",
            "3.0 quarters 0.0 dimes 5.0 nickels 0 pennies\n",
            "3.0 quarters 1.0 dimes 0.0 nickels 15 pennies\n",
            "3.0 quarters 1.0 dimes 1.0 nickels 10 pennies\n",
            "3.0 quarters 1.0 dimes 2.0 nickels 5 pennies\n",
            "3.0 quarters 1.0 dimes 3.0 nickels 0 pennies\n",
            "3.0 quarters 2.0 dimes 0.0 nickels 5 pennies\n",
            "3.0 quarters 2.0 dimes 1.0 nickels 0 pennies\n",
            "4.0 quarters 0.0 dimes 0.0 nickels 0 pennies\n"
          ],
          "name": "stdout"
        }
      ]
    },
    {
      "cell_type": "markdown",
      "metadata": {
        "id": "rUPDjYiIkbgs"
      },
      "source": [
        "##### Q7. Ask the user to enter two positive integers between 1 and 100. Read those integers. Then output a multiplication table of the first number times the second number. \n",
        "\n",
        "Note: You have to ensure the entered numbers are between 1 and 100 only.\n",
        "\n",
        "```\n",
        "Please enter an integer: 5\n",
        "Please enter another integer: 20\n",
        "5 x 1 = 5\n",
        "5 x 2 = 10\n",
        "5 x 3 = 15\n",
        "…\n",
        "5 x 20 = 100\n",
        "```"
      ]
    },
    {
      "cell_type": "code",
      "metadata": {
        "id": "Qg0Orv1klHzA",
        "colab": {
          "base_uri": "https://localhost:8080/"
        },
        "outputId": "f1655e09-db98-4111-b952-9ef9ec6024d4"
      },
      "source": [
        "num1 = int(input(\"Please enter an integer: \"))\n",
        "num2 = int(input(\"Please enter another integer: \"))\n",
        "for i in range(num2+1):\n",
        "  print(num1,\"x\",i,\"=\",num1*i)"
      ],
      "execution_count": null,
      "outputs": [
        {
          "output_type": "stream",
          "text": [
            "Please enter an integer: 5\n",
            "Please enter another integer: 24\n",
            "5 x 0 = 0\n",
            "5 x 1 = 5\n",
            "5 x 2 = 10\n",
            "5 x 3 = 15\n",
            "5 x 4 = 20\n",
            "5 x 5 = 25\n",
            "5 x 6 = 30\n",
            "5 x 7 = 35\n",
            "5 x 8 = 40\n",
            "5 x 9 = 45\n",
            "5 x 10 = 50\n",
            "5 x 11 = 55\n",
            "5 x 12 = 60\n",
            "5 x 13 = 65\n",
            "5 x 14 = 70\n",
            "5 x 15 = 75\n",
            "5 x 16 = 80\n",
            "5 x 17 = 85\n",
            "5 x 18 = 90\n",
            "5 x 19 = 95\n",
            "5 x 20 = 100\n",
            "5 x 21 = 105\n",
            "5 x 22 = 110\n",
            "5 x 23 = 115\n",
            "5 x 24 = 120\n"
          ],
          "name": "stdout"
        }
      ]
    },
    {
      "cell_type": "markdown",
      "metadata": {
        "id": "SbnbPUPTlLD9"
      },
      "source": [
        "##### Q8. Write a program to ask the user to enter a password. Then check to see if it is a valid password based on these requirements -\n",
        "\n",
        "Must be at least 8 characters long\n",
        "\n",
        "Must contain both uppercase and lowercase letters\n",
        "\n",
        "Must contain at least one number between 0-9\n",
        "\n",
        "Must contain a special character -!,@,#,$\n",
        "\n",
        "If the password is not valid, ask the user to re-enter. This should continue until the user enters a valid password. After a valid password is entered, print Access Granted!\n",
        "\n",
        "```\n",
        "Please enter a password. Follow these requirements - \n",
        "a. Must be at least 8 characters long\n",
        "b. Must contain both uppercase and lowercase letters\n",
        "c. Must contain at least one number between 0-9\n",
        "d. Must contain a special character -!,@,#,$\n",
        "Password: HelloWorld1\n",
        "Invalid password. Try again!\n",
        "Password: Hello@World1\n",
        "Access Granted!\n",
        "```\n"
      ]
    },
    {
      "cell_type": "code",
      "metadata": {
        "id": "OXmZ177Rl-RV",
        "colab": {
          "base_uri": "https://localhost:8080/"
        },
        "outputId": "bab7117b-980a-4c9f-ba53-d2bccbccddca"
      },
      "source": [
        "# Runs and checks password until all password parameters are correct\n",
        "print(\"Please enter a password. Follow these requirements - \\na. Must be at least 8 characters long \\nb. Must contain both uppercase and lowercase letters \\nc. Must contain at least one number between 0-9 \\nd. Must contain a special character -!,@,#,$\")\n",
        "Again = True\n",
        "while Again:\n",
        "  Access = True\n",
        "  password = input(\"Password: \")\n",
        "  if len(password) < 8:\n",
        "    Access = False\n",
        "  if not any(x.isupper() for x in password):\n",
        "    Access = False\n",
        "  if not any(x.islower() for x in password):\n",
        "    Access = False\n",
        "  Special = [\"-\", \"!\", \"@\", \"#\", \"$\"]\n",
        "  if not any(x in Special for x in password):\n",
        "    Access = False\n",
        "  if not any(x.isdigit() for x in password):\n",
        "    Access = False\n",
        "  valid_num = [\"0\", \"1\", \"2\", \"3\", \"4\", \"5\", \"6\", \"7\", \"8\", \"9\"]\n",
        "  if not any(x in valid_num for x in password):\n",
        "    Access = False\n",
        "  if Access:\n",
        "    print(\"Access Granted!\")\n",
        "    Again = False\n",
        "  else:\n",
        "    print(\"Invalid password. Try again!\")\n"
      ],
      "execution_count": null,
      "outputs": [
        {
          "output_type": "stream",
          "text": [
            "Please enter a password. Follow these requirements - \n",
            "a. Must be at least 8 characters long \n",
            "b. Must contain both uppercase and lowercase letters \n",
            "c. Must contain at least one number between 0-9 \n",
            "d. Must contain a special character -!,@,#,$\n",
            "Password: password\n",
            "Invalid password. Try again!\n",
            "Password: h\n",
            "Invalid password. Try again!\n",
            "Password: Hello@World1\n",
            "Access Granted!\n"
          ],
          "name": "stdout"
        }
      ]
    },
    {
      "cell_type": "markdown",
      "metadata": {
        "id": "-0sdutTDnTKA"
      },
      "source": [
        "##### Q9. Given the score sheet of participants in a competition, you are required to find the runner-up score. You are given scores in a list. Find the score of the runner-up.\n",
        "\n",
        "```\n",
        "list1 - [2, 3, 6, 6, 5]\n",
        "runner_up - 5\n",
        "\n",
        "list2 - [1, 7, 5, 3, 10, 4, 5, 5, 6, 11]\n",
        "runner_up - 10\n",
        "```"
      ]
    },
    {
      "cell_type": "code",
      "metadata": {
        "id": "12YP9OaqpGRK",
        "colab": {
          "base_uri": "https://localhost:8080/"
        },
        "outputId": "ceb037a2-11de-48ef-c29f-eaf494380812"
      },
      "source": [
        "# Description: creates a list from user input, casts it into a set -\n",
        "# then back into a list to delete duplicates, and then sorts the list, printing the second highest number\n",
        "# 2nd highest score\n",
        "score = []\n",
        "people = int(input(\"Enter the number of participants: \"))\n",
        "for i in range(0, people):\n",
        "  add_score = int(input(\"Enter score: \"))\n",
        "  score.append(add_score)\n",
        "score = list(set(score))\n",
        "score.sort()\n",
        "print(\"The runner up is\", score[-2])"
      ],
      "execution_count": null,
      "outputs": [
        {
          "output_type": "stream",
          "text": [
            "Enter the number of participants: 5\n",
            "Enter score: 2\n",
            "Enter score: 3\n",
            "Enter score: 6\n",
            "Enter score: 6\n",
            "Enter score: 5\n",
            "The runner up is 5\n"
          ],
          "name": "stdout"
        }
      ]
    },
    {
      "cell_type": "code",
      "metadata": {
        "id": "Du0uFINFxBqu"
      },
      "source": [
        ""
      ],
      "execution_count": null,
      "outputs": []
    }
  ]
}